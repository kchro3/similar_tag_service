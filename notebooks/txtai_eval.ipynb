{
 "cells": [
  {
   "cell_type": "code",
   "execution_count": 1,
   "id": "6f1e59ce-b2a2-4cf0-a6b3-437a5cf5cc3f",
   "metadata": {},
   "outputs": [
    {
     "name": "stderr",
     "output_type": "stream",
     "text": [
      "/Users/jeffhara/PycharmProjects/similar_tags_service/venv/lib/python3.9/site-packages/tqdm/auto.py:22: TqdmWarning: IProgress not found. Please update jupyter and ipywidgets. See https://ipywidgets.readthedocs.io/en/stable/user_install.html\n",
      "  from .autonotebook import tqdm as notebook_tqdm\n"
     ]
    }
   ],
   "source": [
    "import pickle\n",
    "\n",
    "from txtai.embeddings import Embeddings\n",
    "from IPython.display import display"
   ]
  },
  {
   "cell_type": "code",
   "execution_count": 2,
   "id": "72f776dc-e8b2-4391-8f3d-9b6459d9c594",
   "metadata": {},
   "outputs": [],
   "source": [
    "embeddings = Embeddings({\n",
    "    \"path\": \"sentence-transformers/all-mpnet-base-v2\",\n",
    "    \"batch\": 100,\n",
    "})"
   ]
  },
  {
   "cell_type": "code",
   "execution_count": 3,
   "id": "548aec0b-ec72-4b6c-919b-0b8d5cb73be1",
   "metadata": {},
   "outputs": [],
   "source": [
    "embeddings.load(\"export/mpnet.txtai\")"
   ]
  },
  {
   "cell_type": "code",
   "execution_count": 4,
   "id": "86638123-d09f-4057-9566-6927c07a8db3",
   "metadata": {},
   "outputs": [],
   "source": [
    "with open(\"export/mpnet_metadata.pkl\", \"rb\") as r:\n",
    "    metadata = pickle.load(r)"
   ]
  },
  {
   "cell_type": "code",
   "execution_count": 27,
   "id": "c31eee0d-04f8-4a95-b54f-c8a418a7a80d",
   "metadata": {},
   "outputs": [
    {
     "data": {
      "text/html": [
       "<div>\n",
       "<style scoped>\n",
       "    .dataframe tbody tr th:only-of-type {\n",
       "        vertical-align: middle;\n",
       "    }\n",
       "\n",
       "    .dataframe tbody tr th {\n",
       "        vertical-align: top;\n",
       "    }\n",
       "\n",
       "    .dataframe thead th {\n",
       "        text-align: right;\n",
       "    }\n",
       "</style>\n",
       "<table border=\"1\" class=\"dataframe\">\n",
       "  <thead>\n",
       "    <tr style=\"text-align: right;\">\n",
       "      <th></th>\n",
       "      <th>doc</th>\n",
       "      <th>tags</th>\n",
       "      <th>score</th>\n",
       "    </tr>\n",
       "  </thead>\n",
       "  <tbody>\n",
       "    <tr>\n",
       "      <th>0</th>\n",
       "      <td>Jackson Peter</td>\n",
       "      <td>[peter]</td>\n",
       "      <td>0.483101</td>\n",
       "    </tr>\n",
       "    <tr>\n",
       "      <th>1</th>\n",
       "      <td>Hayden P</td>\n",
       "      <td>[hayden panettiere]</td>\n",
       "      <td>0.471729</td>\n",
       "    </tr>\n",
       "    <tr>\n",
       "      <th>2</th>\n",
       "      <td>Paul Evans</td>\n",
       "      <td>[art, landscape, sky, light, plant, winter, pa...</td>\n",
       "      <td>0.450608</td>\n",
       "    </tr>\n",
       "    <tr>\n",
       "      <th>3</th>\n",
       "      <td>lewis ph kevin scanlon lewis pullman</td>\n",
       "      <td>[so good in this fit sososososo good, lewis pu...</td>\n",
       "      <td>0.448398</td>\n",
       "    </tr>\n",
       "    <tr>\n",
       "      <th>4</th>\n",
       "      <td>middleamerica ph Derek Johnston Levi</td>\n",
       "      <td>[ph, Levi]</td>\n",
       "      <td>0.437065</td>\n",
       "    </tr>\n",
       "    <tr>\n",
       "      <th>5</th>\n",
       "      <td>middleamerica ph Derek Johnston Levi</td>\n",
       "      <td>[coffin nail, Levi]</td>\n",
       "      <td>0.437065</td>\n",
       "    </tr>\n",
       "    <tr>\n",
       "      <th>6</th>\n",
       "      <td>middleamerica ph Derek Johnston Levi</td>\n",
       "      <td>[crowd, Levi]</td>\n",
       "      <td>0.437065</td>\n",
       "    </tr>\n",
       "    <tr>\n",
       "      <th>7</th>\n",
       "      <td>middleamerica ph Derek Johnston Levi</td>\n",
       "      <td>[gender, aes, Levi]</td>\n",
       "      <td>0.437065</td>\n",
       "    </tr>\n",
       "    <tr>\n",
       "      <th>8</th>\n",
       "      <td>middleamerica ph Derek Johnston Levi</td>\n",
       "      <td>[tried to buy a new pack today despite having ...</td>\n",
       "      <td>0.437065</td>\n",
       "    </tr>\n",
       "    <tr>\n",
       "      <th>9</th>\n",
       "      <td>Shaznay Lewis</td>\n",
       "      <td>[people]</td>\n",
       "      <td>0.428205</td>\n",
       "    </tr>\n",
       "  </tbody>\n",
       "</table>\n",
       "</div>"
      ],
      "text/plain": [
       "                                    doc  \\\n",
       "0                         Jackson Peter   \n",
       "1                              Hayden P   \n",
       "2                            Paul Evans   \n",
       "3  lewis ph kevin scanlon lewis pullman   \n",
       "4  middleamerica ph Derek Johnston Levi   \n",
       "5  middleamerica ph Derek Johnston Levi   \n",
       "6  middleamerica ph Derek Johnston Levi   \n",
       "7  middleamerica ph Derek Johnston Levi   \n",
       "8  middleamerica ph Derek Johnston Levi   \n",
       "9                         Shaznay Lewis   \n",
       "\n",
       "                                                tags     score  \n",
       "0                                            [peter]  0.483101  \n",
       "1                                [hayden panettiere]  0.471729  \n",
       "2  [art, landscape, sky, light, plant, winter, pa...  0.450608  \n",
       "3  [so good in this fit sososososo good, lewis pu...  0.448398  \n",
       "4                                         [ph, Levi]  0.437065  \n",
       "5                                [coffin nail, Levi]  0.437065  \n",
       "6                                      [crowd, Levi]  0.437065  \n",
       "7                                [gender, aes, Levi]  0.437065  \n",
       "8  [tried to buy a new pack today despite having ...  0.437065  \n",
       "9                                           [people]  0.428205  "
      ]
     },
     "metadata": {},
     "output_type": "display_data"
    },
    {
     "data": {
      "text/plain": [
       "[('Levi', 5),\n",
       " ('lewis pullman', 2),\n",
       " ('peter', 1),\n",
       " ('hayden panettiere', 1),\n",
       " ('art', 1),\n",
       " ('landscape', 1),\n",
       " ('sky', 1),\n",
       " ('light', 1),\n",
       " ('plant', 1),\n",
       " ('winter', 1)]"
      ]
     },
     "execution_count": 27,
     "metadata": {},
     "output_type": "execute_result"
    }
   ],
   "source": [
    "import pandas as pd\n",
    "from collections import Counter\n",
    "\n",
    "def printdf(tag):\n",
    "    rows = []\n",
    "    for doc, score in embeddings.search(tag, 10):\n",
    "        rows.append({\n",
    "            \"doc\": metadata[doc]['doc'],\n",
    "            \"tags\": metadata[doc]['tags'],\n",
    "            \"score\": score,\n",
    "        })\n",
    "    display(pd.DataFrame(rows))\n",
    "    \n",
    "def get_similar_tags(tag):\n",
    "    tags = []\n",
    "    for doc, score in embeddings.search(tag, 10):\n",
    "        tags += metadata[doc]['tags']\n",
    "    return Counter(tags).most_common(10)\n",
    "\n",
    "query = \"peterson\"\n",
    "printdf(query)\n",
    "get_similar_tags(query)"
   ]
  },
  {
   "cell_type": "code",
   "execution_count": 28,
   "id": "3b9a50e8-ab6a-44a7-bbd0-9c2be065e3bf",
   "metadata": {},
   "outputs": [],
   "source": [
    "embeddings.load(\"export/popular_tags.txtai\")"
   ]
  },
  {
   "cell_type": "code",
   "execution_count": 29,
   "id": "58ea77ab-7b17-4219-9f1d-1635f42e4465",
   "metadata": {},
   "outputs": [],
   "source": [
    "with open(\"export/popular_tags_metadata.pkl\", \"rb\") as r:\n",
    "    metadata = pickle.load(r)"
   ]
  },
  {
   "cell_type": "code",
   "execution_count": 33,
   "id": "957a5abb-a26a-4217-bcc4-4d6925caa78d",
   "metadata": {},
   "outputs": [
    {
     "name": "stdout",
     "output_type": "stream",
     "text": [
      "67904 {'tag': 'star wars the last jedi', 'count': 2}\n",
      "9184 {'tag': 'the force awakens', 'count': 15}\n",
      "4174 {'tag': 'star wars rebels', 'count': 32}\n",
      "7992 {'tag': 'starwars', 'count': 17}\n",
      "67115 {'tag': 'star wars the old republic', 'count': 2}\n",
      "77713 {'tag': 'star wars rogue one', 'count': 2}\n",
      "11895 {'tag': 'star wars prequels', 'count': 12}\n"
     ]
    }
   ],
   "source": [
    "tag = \"star wars\"\n",
    "k = 10\n",
    "\n",
    "for doc, score in embeddings.search(tag, k):\n",
    "    if 0.5 < score < 0.9:\n",
    "        print(doc, metadata[doc])"
   ]
  },
  {
   "cell_type": "code",
   "execution_count": null,
   "id": "809051dd-1a8c-4b80-ad3e-9f1ccfe603cc",
   "metadata": {},
   "outputs": [],
   "source": []
  }
 ],
 "metadata": {
  "kernelspec": {
   "display_name": "Python 3 (ipykernel)",
   "language": "python",
   "name": "python3"
  },
  "language_info": {
   "codemirror_mode": {
    "name": "ipython",
    "version": 3
   },
   "file_extension": ".py",
   "mimetype": "text/x-python",
   "name": "python",
   "nbconvert_exporter": "python",
   "pygments_lexer": "ipython3",
   "version": "3.9.6"
  }
 },
 "nbformat": 4,
 "nbformat_minor": 5
}
