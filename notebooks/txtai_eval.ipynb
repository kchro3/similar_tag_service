{
 "cells": [
  {
   "cell_type": "code",
   "execution_count": null,
   "id": "6f1e59ce-b2a2-4cf0-a6b3-437a5cf5cc3f",
   "metadata": {},
   "outputs": [],
   "source": [
    "import pickle\n",
    "\n",
    "from txtai.embeddings import Embeddings\n",
    "from IPython.display import display"
   ]
  },
  {
   "cell_type": "code",
   "execution_count": null,
   "id": "72f776dc-e8b2-4391-8f3d-9b6459d9c594",
   "metadata": {},
   "outputs": [],
   "source": [
    "embeddings = Embeddings({\n",
    "    \"path\": \"sentence-transformers/all-mpnet-base-v2\",\n",
    "    \"batch\": 100,\n",
    "})"
   ]
  },
  {
   "cell_type": "code",
   "execution_count": null,
   "id": "548aec0b-ec72-4b6c-919b-0b8d5cb73be1",
   "metadata": {},
   "outputs": [],
   "source": [
    "embeddings.load(\"export/mpnet.txtai\")"
   ]
  },
  {
   "cell_type": "code",
   "execution_count": null,
   "id": "86638123-d09f-4057-9566-6927c07a8db3",
   "metadata": {},
   "outputs": [],
   "source": [
    "with open(\"export/mpnet_metadata.pkl\", \"rb\") as r:\n",
    "    metadata = pickle.load(r)"
   ]
  },
  {
   "cell_type": "code",
   "execution_count": null,
   "id": "c31eee0d-04f8-4a95-b54f-c8a418a7a80d",
   "metadata": {
    "tags": []
   },
   "outputs": [],
   "source": [
    "import pandas as pd\n",
    "from collections import Counter\n",
    "\n",
    "def printdf(tag):\n",
    "    rows = []\n",
    "    for doc, score in embeddings.search(tag, 10):\n",
    "        rows.append({\n",
    "            \"doc\": metadata[doc]['doc'],\n",
    "            \"tags\": metadata[doc]['tags'],\n",
    "            \"score\": score,\n",
    "        })\n",
    "    display(pd.DataFrame(rows))\n",
    "    \n",
    "def get_similar_tags(tag):\n",
    "    tags = []\n",
    "    for doc, score in embeddings.search(tag, 10):\n",
    "        tags += metadata[doc]['tags']\n",
    "    return Counter(tags).most_common(10)\n",
    "\n",
    "query = \"peterson\"\n",
    "printdf(query)\n",
    "get_similar_tags(query)"
   ]
  },
  {
   "cell_type": "code",
   "execution_count": null,
   "id": "3b9a50e8-ab6a-44a7-bbd0-9c2be065e3bf",
   "metadata": {},
   "outputs": [],
   "source": [
    "embeddings.similarity([\"music\", \"video\"], [\n",
    "    \"video\",\n",
    "    \"songs\",\n",
    "    \"lana del rey\"\n",
    "])"
   ]
  },
  {
   "cell_type": "code",
   "execution_count": null,
   "id": "58ea77ab-7b17-4219-9f1d-1635f42e4465",
   "metadata": {},
   "outputs": [],
   "source": [
    "with open(\"export/popular_tags_metadata.pkl\", \"rb\") as r:\n",
    "    metadata = pickle.load(r)"
   ]
  },
  {
   "cell_type": "code",
   "execution_count": null,
   "id": "957a5abb-a26a-4217-bcc4-4d6925caa78d",
   "metadata": {},
   "outputs": [],
   "source": [
    "tag = \"star wars\"\n",
    "k = 10\n",
    "\n",
    "for doc, score in embeddings.search(tag, k):\n",
    "    if 0.5 < score < 0.9:\n",
    "        print(doc, metadata[doc])"
   ]
  },
  {
   "cell_type": "code",
   "execution_count": null,
   "id": "809051dd-1a8c-4b80-ad3e-9f1ccfe603cc",
   "metadata": {},
   "outputs": [],
   "source": []
  }
 ],
 "metadata": {
  "kernelspec": {
   "display_name": "Python 3 (ipykernel)",
   "language": "python",
   "name": "python3"
  },
  "language_info": {
   "codemirror_mode": {
    "name": "ipython",
    "version": 3
   },
   "file_extension": ".py",
   "mimetype": "text/x-python",
   "name": "python",
   "nbconvert_exporter": "python",
   "pygments_lexer": "ipython3",
   "version": "3.11.2"
  }
 },
 "nbformat": 4,
 "nbformat_minor": 5
}
