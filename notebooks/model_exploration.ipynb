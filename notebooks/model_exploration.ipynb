{
 "cells": [
  {
   "cell_type": "code",
   "execution_count": 1,
   "id": "858d82cb-5767-4359-878a-5c5f59a07b6d",
   "metadata": {
    "tags": []
   },
   "outputs": [],
   "source": [
    "# ! pip install networkx\n",
    "# ! pip install pybind11\n",
    "# ! pip install graph-walker\n",
    "import pandas as pd\n",
    "import networkx as nx\n",
    "# import walker"
   ]
  },
  {
   "cell_type": "code",
   "execution_count": 2,
   "id": "3f7d9483-f4f5-445c-9a3f-b924933442ea",
   "metadata": {},
   "outputs": [],
   "source": [
    "from model.post import Post, PostType"
   ]
  },
  {
   "cell_type": "code",
   "execution_count": 3,
   "id": "ce5c4f89-001c-43ef-b332-c9fbb3c88a77",
   "metadata": {
    "tags": []
   },
   "outputs": [],
   "source": [
    "prep_df = pd.read_json(\"data/preprocessed_data.jsonl\", orient=\"records\")\n",
    "\n",
    "posts = prep_df.to_dict(\"records\")\n",
    "\n",
    "assert len(posts) == len(prep_df), \"Unexpectedly dropped records\""
   ]
  },
  {
   "cell_type": "code",
   "execution_count": 5,
   "id": "67373282-961d-417b-a25b-7b83d31f8fa0",
   "metadata": {},
   "outputs": [],
   "source": [
    "def unmarshal_post(record):\n",
    "    return Post(\n",
    "        post_id=record[\"index\"],\n",
    "        blog_url=record[\"blog_url\"],\n",
    "        post_type=PostType[record[\"type\"].upper()],\n",
    "        lang=record[\"lang\"],\n",
    "        is_reblog=(int(record[\"is_reblog\"]) == 1),\n",
    "        tags=record[\"tags\"],\n",
    "        root_tags=record[\"root_tags\"]\n",
    "    )\n",
    "\n",
    "model_posts = list(map(unmarshal_post, posts))"
   ]
  },
  {
   "cell_type": "code",
   "execution_count": 142,
   "id": "26a27c8c-0a76-4e8b-907d-8dff1f2fa41f",
   "metadata": {},
   "outputs": [],
   "source": [
    "from collections import defaultdict\n",
    "\n",
    "co_occurring_tags = defaultdict(float)\n",
    "for post in toy_posts:\n",
    "    for i in range(len(post.tags)):\n",
    "        for j in range(len(post.tags)):\n",
    "            if i == j:\n",
    "                continue\n",
    "            else:\n",
    "                key = tuple(sorted([post.tags[i], post.tags[j]]))\n",
    "                co_occurring_tags[key] += (1 / len(post.tags))"
   ]
  },
  {
   "cell_type": "code",
   "execution_count": 217,
   "id": "3e9d8049-fd2f-450a-8ab4-ecd7af3af2c2",
   "metadata": {},
   "outputs": [],
   "source": [
    "post2post = nx.Graph()\n",
    "\n",
    "for post in toy_posts:\n",
    "    sorted_tags = sorted(post.tags)\n",
    "    num_tags = len(sorted_tags)\n",
    "    weight = 1 / num_tags\n",
    "    for i in range(num_tags):\n",
    "        for j in range(i+1, num_tags):\n",
    "            \n",
    "            a, b = sorted_tags[i], sorted_tags[j]\n",
    "            if (a, b) in post2post.edges:\n",
    "                new_weight = post2post.edges[a, b]['weight'] + weight\n",
    "                post2post.add_edge(a, b, weight=new_weight)\n",
    "            else:\n",
    "                post2post.add_edge(a, b, weight=weight)"
   ]
  },
  {
   "cell_type": "code",
   "execution_count": 219,
   "id": "25608eb1-932d-471d-bee3-0a8280b2d354",
   "metadata": {
    "tags": []
   },
   "outputs": [],
   "source": [
    "G = post2post"
   ]
  },
  {
   "cell_type": "code",
   "execution_count": 230,
   "id": "b11d2734-0fa1-4b05-ab35-9820a5d1a52e",
   "metadata": {},
   "outputs": [
    {
     "data": {
      "text/plain": [
       "['din djarin',\n",
       " 'din djarin',\n",
       " 'sw',\n",
       " 'the mandalorian',\n",
       " 'q',\n",
       " 'obi wan kenobi',\n",
       " 'gfx',\n",
       " 'art',\n",
       " 'luke skywalker',\n",
       " 'fanart',\n",
       " 'rey',\n",
       " 'fanart',\n",
       " 'sequel trilogy',\n",
       " 'rogue one',\n",
       " 'daisy ridley',\n",
       " 'art',\n",
       " 'q',\n",
       " 'din djarin',\n",
       " 'finn',\n",
       " 'luke skywalker',\n",
       " 'luke skywalker',\n",
       " 'the mandalorian',\n",
       " 'the mandalorian',\n",
       " 'reblog',\n",
       " 'movies']"
      ]
     },
     "execution_count": 230,
     "metadata": {},
     "output_type": "execute_result"
    }
   ],
   "source": [
    "def prune(G, key, k = 25):\n",
    "    return sorted(\n",
    "        G[key].items(), \n",
    "        key=lambda x: x[1][\"weight\"], \n",
    "        reverse=True\n",
    "    )[:k]\n",
    "\n",
    "def random_sample(G, key, k = 25):\n",
    "    pruned = prune(G, key, k)\n",
    "    pop, weights = zip(*[\n",
    "        (neighbor, features['weight'])\n",
    "        for neighbor, features in pruned\n",
    "    ])\n",
    "    return random.choices(pop, weights, k=k)\n",
    "\n",
    "random_sample(G, \"star wars\")"
   ]
  },
  {
   "cell_type": "code",
   "execution_count": 221,
   "id": "f405dbd6-2c59-4723-a0af-cdb2b49fad38",
   "metadata": {},
   "outputs": [
    {
     "ename": "TypeError",
     "evalue": "'<' not supported between instances of 'dict' and 'dict'",
     "output_type": "error",
     "traceback": [
      "\u001b[0;31m---------------------------------------------------------------------------\u001b[0m",
      "\u001b[0;31mTypeError\u001b[0m                                 Traceback (most recent call last)",
      "Cell \u001b[0;32mIn[221], line 1\u001b[0m\n\u001b[0;32m----> 1\u001b[0m pruned \u001b[38;5;241m=\u001b[39m \u001b[38;5;28;43msorted\u001b[39;49m\u001b[43m(\u001b[49m\u001b[38;5;28;43mlist\u001b[39;49m\u001b[43m(\u001b[49m\u001b[43mG\u001b[49m\u001b[43m[\u001b[49m\u001b[38;5;124;43m\"\u001b[39;49m\u001b[38;5;124;43mstar wars\u001b[39;49m\u001b[38;5;124;43m\"\u001b[39;49m\u001b[43m]\u001b[49m\u001b[38;5;241;43m.\u001b[39;49m\u001b[43mitems\u001b[49m\u001b[43m(\u001b[49m\u001b[43m)\u001b[49m\u001b[43m)\u001b[49m\u001b[43m,\u001b[49m\u001b[43m \u001b[49m\u001b[43mkey\u001b[49m\u001b[38;5;241;43m=\u001b[39;49m\u001b[38;5;28;43;01mlambda\u001b[39;49;00m\u001b[43m \u001b[49m\u001b[43mx\u001b[49m\u001b[43m:\u001b[49m\u001b[43m \u001b[49m\u001b[43mx\u001b[49m\u001b[43m[\u001b[49m\u001b[38;5;241;43m1\u001b[39;49m\u001b[43m]\u001b[49m\u001b[43m,\u001b[49m\u001b[43m \u001b[49m\u001b[43mreverse\u001b[49m\u001b[38;5;241;43m=\u001b[39;49m\u001b[38;5;28;43;01mTrue\u001b[39;49;00m\u001b[43m)\u001b[49m\n\u001b[1;32m      3\u001b[0m pop, weights \u001b[38;5;241m=\u001b[39m \u001b[38;5;28mzip\u001b[39m(\u001b[38;5;241m*\u001b[39m[\n\u001b[1;32m      4\u001b[0m     (neighbor, features[\u001b[38;5;124m'\u001b[39m\u001b[38;5;124mweight\u001b[39m\u001b[38;5;124m'\u001b[39m])\n\u001b[1;32m      5\u001b[0m     \u001b[38;5;28;01mfor\u001b[39;00m neighbor, features \u001b[38;5;129;01min\u001b[39;00m pruned\n\u001b[1;32m      6\u001b[0m ])\n",
      "\u001b[0;31mTypeError\u001b[0m: '<' not supported between instances of 'dict' and 'dict'"
     ]
    }
   ],
   "source": [
    "pruned = sorted(list(G[\"star wars\"].items()), key=lambda x: x[1], reverse=True)\n",
    "\n",
    "pop, weights = zip(*[\n",
    "    (neighbor, features['weight'])\n",
    "    for neighbor, features in pruned\n",
    "])"
   ]
  },
  {
   "cell_type": "code",
   "execution_count": 197,
   "id": "4b23e9f6-898f-4223-b7d3-5e73e2e30056",
   "metadata": {},
   "outputs": [
    {
     "data": {
      "text/plain": [
       "['din djarin',\n",
       " 'darth maul',\n",
       " 'q',\n",
       " 'q',\n",
       " 'rey',\n",
       " 'movies',\n",
       " 'sequel trilogy',\n",
       " 'q',\n",
       " 'art',\n",
       " 'the mandalorian']"
      ]
     },
     "execution_count": 197,
     "metadata": {},
     "output_type": "execute_result"
    }
   ],
   "source": [
    "random.choices(pop, weights, k=10)"
   ]
  },
  {
   "cell_type": "code",
   "execution_count": 201,
   "id": "90a0c24f-36d3-49dc-87d1-e42e616faba6",
   "metadata": {},
   "outputs": [
    {
     "data": {
      "text/plain": [
       "{'index': 66702,\n",
       " 'blog_url': 'tintuchotnhat27768.tumblr.com',\n",
       " 'dt': '2021-06-15',\n",
       " 'type': 'link',\n",
       " 'lang': 'en_US',\n",
       " 'is_reblog': 0,\n",
       " 'tags': ['news'],\n",
       " 'root_tags': []}"
      ]
     },
     "execution_count": 201,
     "metadata": {},
     "output_type": "execute_result"
    }
   ],
   "source": [
    "random.choice(posts)"
   ]
  },
  {
   "cell_type": "code",
   "execution_count": 11,
   "id": "85c048c3-93df-4b1b-8006-e8833dc160d4",
   "metadata": {},
   "outputs": [
    {
     "name": "stdout",
     "output_type": "stream",
     "text": [
      "Post(post_id=0, blog_url='fireland.tumblr.com', post_type=<PostType.PHOTO: 1>, lang='en_US', is_reblog=False, tags=['jfk', 'joe pesci', 'moviegifs', 'filmgifs'], root_tags=[])\n",
      "Post(post_id=1, blog_url='erina.tumblr.com', post_type=<PostType.PHOTO: 1>, lang='en_US', is_reblog=False, tags=['she and Seven got along great!', 'seven doesn’t usually play well with other dogs'], root_tags=[])\n",
      "Post(post_id=2, blog_url='goran.tumblr.com', post_type=<PostType.LINK: 5>, lang='en_US', is_reblog=False, tags=['classifieds’ saab of the day'], root_tags=[])\n",
      "Post(post_id=3, blog_url='paintbynumbers.tumblr.com', post_type=<PostType.VIDEO: 3>, lang='en_US', is_reblog=False, tags=['Youtube'], root_tags=[])\n",
      "Post(post_id=4, blog_url='alteralter.tumblr.com', post_type=<PostType.REGULAR: 2>, lang='en_US', is_reblog=False, tags=['diary'], root_tags=[])\n",
      "Post(post_id=5, blog_url='shimuran.tumblr.com', post_type=<PostType.PHOTO: 1>, lang='en_US', is_reblog=False, tags=['火曜日', '塩大福', 'みずの'], root_tags=[])\n",
      "Post(post_id=6, blog_url='shimuran.tumblr.com', post_type=<PostType.PHOTO: 1>, lang='en_US', is_reblog=False, tags=['水曜日'], root_tags=[])\n",
      "Post(post_id=10, blog_url='ku-brick.tumblr.com', post_type=<PostType.PHOTO: 1>, lang='en_US', is_reblog=True, tags=['rihanna'], root_tags=[])\n",
      "Post(post_id=11, blog_url='korybing.tumblr.com', post_type=<PostType.PHOTOSET: 4>, lang='en_US', is_reblog=False, tags=['skin deep', 'skin deep comic', 'webcomic', 'kory bing'], root_tags=[])\n",
      "Post(post_id=12, blog_url='zeroatthebone.tumblr.com', post_type=<PostType.REGULAR: 2>, lang='en_US', is_reblog=True, tags=['doctrine of labyrinths', 'I think I knew 3 other people on the whole internet who’d read those books'], root_tags=[])\n"
     ]
    },
    {
     "data": {
      "text/plain": [
       "(40906, 0.40906409064090643)"
      ]
     },
     "execution_count": 11,
     "metadata": {},
     "output_type": "execute_result"
    }
   ],
   "source": [
    "quota = 10\n",
    "count = 0\n",
    "for post in model_posts:\n",
    "    if len(post.root_tags) == 0:\n",
    "        if quota > 0:\n",
    "            print(post)\n",
    "            quota -= 1\n",
    "        count += 1\n",
    "count, count / len(model_posts)"
   ]
  },
  {
   "cell_type": "code",
   "execution_count": null,
   "id": "934aeb5c-bfcc-4251-b477-e824209ae085",
   "metadata": {},
   "outputs": [],
   "source": []
  }
 ],
 "metadata": {
  "kernelspec": {
   "display_name": "Python 3 (ipykernel)",
   "language": "python",
   "name": "python3"
  },
  "language_info": {
   "codemirror_mode": {
    "name": "ipython",
    "version": 3
   },
   "file_extension": ".py",
   "mimetype": "text/x-python",
   "name": "python",
   "nbconvert_exporter": "python",
   "pygments_lexer": "ipython3",
   "version": "3.9.6"
  }
 },
 "nbformat": 4,
 "nbformat_minor": 5
}
