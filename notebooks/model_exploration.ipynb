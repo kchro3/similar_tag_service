{
 "cells": [
  {
   "cell_type": "code",
   "execution_count": null,
   "id": "858d82cb-5767-4359-878a-5c5f59a07b6d",
   "metadata": {
    "tags": []
   },
   "outputs": [],
   "source": [
    "import pandas as pd\n",
    "import networkx as nx"
   ]
  },
  {
   "cell_type": "code",
   "execution_count": null,
   "id": "3f7d9483-f4f5-445c-9a3f-b924933442ea",
   "metadata": {},
   "outputs": [],
   "source": [
    "from model.post import Post, PostType"
   ]
  },
  {
   "cell_type": "code",
   "execution_count": null,
   "id": "ce5c4f89-001c-43ef-b332-c9fbb3c88a77",
   "metadata": {
    "tags": []
   },
   "outputs": [],
   "source": [
    "prep_df = pd.read_json(\"data/preprocessed_data.jsonl\", orient=\"records\")\n",
    "\n",
    "posts = prep_df.to_dict(\"records\")\n",
    "\n",
    "assert len(posts) == len(prep_df), \"Unexpectedly dropped records\""
   ]
  },
  {
   "cell_type": "code",
   "execution_count": null,
   "id": "67373282-961d-417b-a25b-7b83d31f8fa0",
   "metadata": {},
   "outputs": [],
   "source": [
    "def unmarshal_post(record):\n",
    "    return Post(\n",
    "        post_id=record[\"index\"],\n",
    "        blog_url=record[\"blog_url\"],\n",
    "        post_type=PostType[record[\"type\"].upper()],\n",
    "        lang=record[\"lang\"],\n",
    "        is_reblog=(int(record[\"is_reblog\"]) == 1),\n",
    "        tags=record[\"tags\"],\n",
    "        root_tags=record[\"root_tags\"]\n",
    "    )\n",
    "\n",
    "model_posts = list(map(unmarshal_post, posts))"
   ]
  },
  {
   "cell_type": "code",
   "execution_count": null,
   "id": "26a27c8c-0a76-4e8b-907d-8dff1f2fa41f",
   "metadata": {},
   "outputs": [],
   "source": [
    "from collections import defaultdict\n",
    "\n",
    "co_occurring_tags = defaultdict(float)\n",
    "for post in toy_posts:\n",
    "    for i in range(len(post.tags)):\n",
    "        for j in range(len(post.tags)):\n",
    "            if i == j:\n",
    "                continue\n",
    "            else:\n",
    "                key = tuple(sorted([post.tags[i], post.tags[j]]))\n",
    "                co_occurring_tags[key] += (1 / len(post.tags))"
   ]
  },
  {
   "cell_type": "code",
   "execution_count": null,
   "id": "3e9d8049-fd2f-450a-8ab4-ecd7af3af2c2",
   "metadata": {},
   "outputs": [],
   "source": [
    "post2post = nx.Graph()\n",
    "\n",
    "for post in toy_posts:\n",
    "    sorted_tags = sorted(post.tags)\n",
    "    num_tags = len(sorted_tags)\n",
    "    weight = 1 / num_tags\n",
    "    for i in range(num_tags):\n",
    "        for j in range(i+1, num_tags):\n",
    "            \n",
    "            a, b = sorted_tags[i], sorted_tags[j]\n",
    "            if (a, b) in post2post.edges:\n",
    "                new_weight = post2post.edges[a, b]['weight'] + weight\n",
    "                post2post.add_edge(a, b, weight=new_weight)\n",
    "            else:\n",
    "                post2post.add_edge(a, b, weight=weight)"
   ]
  },
  {
   "cell_type": "code",
   "execution_count": null,
   "id": "25608eb1-932d-471d-bee3-0a8280b2d354",
   "metadata": {
    "tags": []
   },
   "outputs": [],
   "source": [
    "G = post2post"
   ]
  },
  {
   "cell_type": "code",
   "execution_count": null,
   "id": "b11d2734-0fa1-4b05-ab35-9820a5d1a52e",
   "metadata": {},
   "outputs": [],
   "source": [
    "def prune(G, key, k = 25):\n",
    "    return sorted(\n",
    "        G[key].items(), \n",
    "        key=lambda x: x[1][\"weight\"], \n",
    "        reverse=True\n",
    "    )[:k]\n",
    "\n",
    "def random_sample(G, key, k = 25):\n",
    "    pruned = prune(G, key, k)\n",
    "    pop, weights = zip(*[\n",
    "        (neighbor, features['weight'])\n",
    "        for neighbor, features in pruned\n",
    "    ])\n",
    "    return random.choices(pop, weights, k=k)\n",
    "\n",
    "random_sample(G, \"star wars\")"
   ]
  },
  {
   "cell_type": "code",
   "execution_count": null,
   "id": "f405dbd6-2c59-4723-a0af-cdb2b49fad38",
   "metadata": {},
   "outputs": [],
   "source": [
    "pruned = sorted(list(G[\"star wars\"].items()), key=lambda x: x[1], reverse=True)\n",
    "\n",
    "pop, weights = zip(*[\n",
    "    (neighbor, features['weight'])\n",
    "    for neighbor, features in pruned\n",
    "])"
   ]
  },
  {
   "cell_type": "code",
   "execution_count": null,
   "id": "4b23e9f6-898f-4223-b7d3-5e73e2e30056",
   "metadata": {},
   "outputs": [],
   "source": [
    "random.choices(pop, weights, k=10)"
   ]
  },
  {
   "cell_type": "code",
   "execution_count": null,
   "id": "90a0c24f-36d3-49dc-87d1-e42e616faba6",
   "metadata": {},
   "outputs": [],
   "source": [
    "random.choice(posts)"
   ]
  },
  {
   "cell_type": "code",
   "execution_count": null,
   "id": "85c048c3-93df-4b1b-8006-e8833dc160d4",
   "metadata": {},
   "outputs": [],
   "source": [
    "quota = 10\n",
    "count = 0\n",
    "for post in model_posts:\n",
    "    if len(post.root_tags) == 0:\n",
    "        if quota > 0:\n",
    "            print(post)\n",
    "            quota -= 1\n",
    "        count += 1\n",
    "count, count / len(model_posts)"
   ]
  },
  {
   "cell_type": "code",
   "execution_count": null,
   "id": "934aeb5c-bfcc-4251-b477-e824209ae085",
   "metadata": {},
   "outputs": [],
   "source": []
  }
 ],
 "metadata": {
  "kernelspec": {
   "display_name": "Python 3 (ipykernel)",
   "language": "python",
   "name": "python3"
  },
  "language_info": {
   "codemirror_mode": {
    "name": "ipython",
    "version": 3
   },
   "file_extension": ".py",
   "mimetype": "text/x-python",
   "name": "python",
   "nbconvert_exporter": "python",
   "pygments_lexer": "ipython3",
   "version": "3.11.2"
  }
 },
 "nbformat": 4,
 "nbformat_minor": 5
}
