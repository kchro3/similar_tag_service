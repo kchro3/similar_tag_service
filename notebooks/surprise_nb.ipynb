{
 "cells": [
  {
   "cell_type": "code",
   "execution_count": 1,
   "id": "fe377710-339e-424b-9b47-1df64fad202c",
   "metadata": {},
   "outputs": [],
   "source": [
    "import surprise"
   ]
  },
  {
   "cell_type": "code",
   "execution_count": 12,
   "id": "ac25e65f-bdbc-4894-944f-abfefab40ece",
   "metadata": {},
   "outputs": [],
   "source": [
    "# _, algo = surprise.dump.load(\"export/tag2tag_svd.surprise\")\n",
    "_, algo = surprise.dump.load(\"export/tag2tag_knnz.surprise\")"
   ]
  },
  {
   "cell_type": "code",
   "execution_count": 31,
   "id": "c7ab682a-beca-46fd-8c8d-66dba4547fb9",
   "metadata": {},
   "outputs": [],
   "source": [
    "def get_neighbors(algo, x, k=5):\n",
    "    iid = algo.trainset.to_inner_iid(x)\n",
    "    return [\n",
    "        algo.trainset.to_raw_iid(niid)\n",
    "        for niid in algo.get_neighbors(iid, 5)\n",
    "    ]"
   ]
  },
  {
   "cell_type": "code",
   "execution_count": 36,
   "id": "645bf062-f736-413d-b864-ebf9b5b4e6c8",
   "metadata": {},
   "outputs": [
    {
     "data": {
      "text/plain": [
       "False"
      ]
     },
     "execution_count": 36,
     "metadata": {},
     "output_type": "execute_result"
    }
   ],
   "source": [
    "algo.trainset.knows_item(\"dteam\")"
   ]
  },
  {
   "cell_type": "code",
   "execution_count": 39,
   "id": "cf82e0c6-b715-4dc0-a11a-bc852d1e690b",
   "metadata": {},
   "outputs": [
    {
     "ename": "ValueError",
     "evalue": "Item ellen is not part of the trainset.",
     "output_type": "error",
     "traceback": [
      "\u001b[0;31m---------------------------------------------------------------------------\u001b[0m",
      "\u001b[0;31mKeyError\u001b[0m                                  Traceback (most recent call last)",
      "File \u001b[0;32m~/PycharmProjects/similar_tags_service/venv/lib/python3.9/site-packages/surprise/trainset.py:155\u001b[0m, in \u001b[0;36mTrainset.to_inner_iid\u001b[0;34m(self, riid)\u001b[0m\n\u001b[1;32m    154\u001b[0m \u001b[38;5;28;01mtry\u001b[39;00m:\n\u001b[0;32m--> 155\u001b[0m     \u001b[38;5;28;01mreturn\u001b[39;00m \u001b[38;5;28;43mself\u001b[39;49m\u001b[38;5;241;43m.\u001b[39;49m\u001b[43m_raw2inner_id_items\u001b[49m\u001b[43m[\u001b[49m\u001b[43mriid\u001b[49m\u001b[43m]\u001b[49m\n\u001b[1;32m    156\u001b[0m \u001b[38;5;28;01mexcept\u001b[39;00m \u001b[38;5;167;01mKeyError\u001b[39;00m:\n",
      "\u001b[0;31mKeyError\u001b[0m: 'ellen'",
      "\nDuring handling of the above exception, another exception occurred:\n",
      "\u001b[0;31mValueError\u001b[0m                                Traceback (most recent call last)",
      "Cell \u001b[0;32mIn[39], line 1\u001b[0m\n\u001b[0;32m----> 1\u001b[0m \u001b[43mget_neighbors\u001b[49m\u001b[43m(\u001b[49m\u001b[43malgo\u001b[49m\u001b[43m,\u001b[49m\u001b[43m \u001b[49m\u001b[38;5;124;43m\"\u001b[39;49m\u001b[38;5;124;43mellen\u001b[39;49m\u001b[38;5;124;43m\"\u001b[39;49m\u001b[43m)\u001b[49m\n",
      "Cell \u001b[0;32mIn[31], line 2\u001b[0m, in \u001b[0;36mget_neighbors\u001b[0;34m(algo, x, k)\u001b[0m\n\u001b[1;32m      1\u001b[0m \u001b[38;5;28;01mdef\u001b[39;00m \u001b[38;5;21mget_neighbors\u001b[39m(algo, x, k\u001b[38;5;241m=\u001b[39m\u001b[38;5;241m5\u001b[39m):\n\u001b[0;32m----> 2\u001b[0m     iid \u001b[38;5;241m=\u001b[39m \u001b[43malgo\u001b[49m\u001b[38;5;241;43m.\u001b[39;49m\u001b[43mtrainset\u001b[49m\u001b[38;5;241;43m.\u001b[39;49m\u001b[43mto_inner_iid\u001b[49m\u001b[43m(\u001b[49m\u001b[43mx\u001b[49m\u001b[43m)\u001b[49m\n\u001b[1;32m      3\u001b[0m     \u001b[38;5;28;01mreturn\u001b[39;00m [\n\u001b[1;32m      4\u001b[0m         algo\u001b[38;5;241m.\u001b[39mtrainset\u001b[38;5;241m.\u001b[39mto_raw_iid(niid)\n\u001b[1;32m      5\u001b[0m         \u001b[38;5;28;01mfor\u001b[39;00m niid \u001b[38;5;129;01min\u001b[39;00m algo\u001b[38;5;241m.\u001b[39mget_neighbors(iid, \u001b[38;5;241m5\u001b[39m)\n\u001b[1;32m      6\u001b[0m     ]\n",
      "File \u001b[0;32m~/PycharmProjects/similar_tags_service/venv/lib/python3.9/site-packages/surprise/trainset.py:157\u001b[0m, in \u001b[0;36mTrainset.to_inner_iid\u001b[0;34m(self, riid)\u001b[0m\n\u001b[1;32m    155\u001b[0m     \u001b[38;5;28;01mreturn\u001b[39;00m \u001b[38;5;28mself\u001b[39m\u001b[38;5;241m.\u001b[39m_raw2inner_id_items[riid]\n\u001b[1;32m    156\u001b[0m \u001b[38;5;28;01mexcept\u001b[39;00m \u001b[38;5;167;01mKeyError\u001b[39;00m:\n\u001b[0;32m--> 157\u001b[0m     \u001b[38;5;28;01mraise\u001b[39;00m \u001b[38;5;167;01mValueError\u001b[39;00m(\u001b[38;5;124m\"\u001b[39m\u001b[38;5;124mItem \u001b[39m\u001b[38;5;124m\"\u001b[39m \u001b[38;5;241m+\u001b[39m \u001b[38;5;28mstr\u001b[39m(riid) \u001b[38;5;241m+\u001b[39m \u001b[38;5;124m\"\u001b[39m\u001b[38;5;124m is not part of the trainset.\u001b[39m\u001b[38;5;124m\"\u001b[39m)\n",
      "\u001b[0;31mValueError\u001b[0m: Item ellen is not part of the trainset."
     ]
    }
   ],
   "source": [
    "get_neighbors(algo, \"ellen\")"
   ]
  },
  {
   "cell_type": "code",
   "execution_count": null,
   "id": "e3a4691f-207c-43df-96cb-1926f3d695d9",
   "metadata": {},
   "outputs": [],
   "source": []
  }
 ],
 "metadata": {
  "kernelspec": {
   "display_name": "Python 3 (ipykernel)",
   "language": "python",
   "name": "python3"
  },
  "language_info": {
   "codemirror_mode": {
    "name": "ipython",
    "version": 3
   },
   "file_extension": ".py",
   "mimetype": "text/x-python",
   "name": "python",
   "nbconvert_exporter": "python",
   "pygments_lexer": "ipython3",
   "version": "3.9.6"
  }
 },
 "nbformat": 4,
 "nbformat_minor": 5
}
