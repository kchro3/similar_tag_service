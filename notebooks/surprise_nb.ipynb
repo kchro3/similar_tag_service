{
 "cells": [
  {
   "cell_type": "code",
   "execution_count": null,
   "id": "fe377710-339e-424b-9b47-1df64fad202c",
   "metadata": {},
   "outputs": [],
   "source": [
    "import surprise"
   ]
  },
  {
   "cell_type": "code",
   "execution_count": null,
   "id": "ac25e65f-bdbc-4894-944f-abfefab40ece",
   "metadata": {},
   "outputs": [],
   "source": [
    "# _, algo = surprise.dump.load(\"export/tag2tag_svd.surprise\")\n",
    "_, algo = surprise.dump.load(\"export/tag2tag_knnz.surprise\")"
   ]
  },
  {
   "cell_type": "code",
   "execution_count": null,
   "id": "c7ab682a-beca-46fd-8c8d-66dba4547fb9",
   "metadata": {},
   "outputs": [],
   "source": [
    "def get_neighbors(algo, x, k=5):\n",
    "    iid = algo.trainset.to_inner_iid(x)\n",
    "    return [\n",
    "        algo.trainset.to_raw_iid(niid)\n",
    "        for niid in algo.get_neighbors(iid, 5)\n",
    "    ]"
   ]
  },
  {
   "cell_type": "code",
   "execution_count": null,
   "id": "645bf062-f736-413d-b864-ebf9b5b4e6c8",
   "metadata": {},
   "outputs": [],
   "source": [
    "algo.trainset.knows_item(\"dteam\")"
   ]
  },
  {
   "cell_type": "code",
   "execution_count": null,
   "id": "cf82e0c6-b715-4dc0-a11a-bc852d1e690b",
   "metadata": {},
   "outputs": [],
   "source": [
    "get_neighbors(algo, \"ellen\")"
   ]
  },
  {
   "cell_type": "code",
   "execution_count": null,
   "id": "e3a4691f-207c-43df-96cb-1926f3d695d9",
   "metadata": {},
   "outputs": [],
   "source": []
  }
 ],
 "metadata": {
  "kernelspec": {
   "display_name": "Python 3 (ipykernel)",
   "language": "python",
   "name": "python3"
  },
  "language_info": {
   "codemirror_mode": {
    "name": "ipython",
    "version": 3
   },
   "file_extension": ".py",
   "mimetype": "text/x-python",
   "name": "python",
   "nbconvert_exporter": "python",
   "pygments_lexer": "ipython3",
   "version": "3.11.2"
  }
 },
 "nbformat": 4,
 "nbformat_minor": 5
}
