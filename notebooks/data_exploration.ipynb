{
 "cells": [
  {
   "cell_type": "code",
   "execution_count": 3,
   "id": "a20db955-2988-469a-97b7-f292091e03c9",
   "metadata": {},
   "outputs": [],
   "source": [
    "import os\n",
    "\n",
    "from collections import Counter\n",
    "\n",
    "import pandas as pd\n",
    "\n",
    "# DATA_PATH = \"data/tags_on_posts_sample.csv\"\n",
    "DATA_PATH = \"data/Trial-main-dataset.csv\"\n",
    "\n",
    "raw_df = pd.read_csv(DATA_PATH)"
   ]
  },
  {
   "cell_type": "code",
   "execution_count": 26,
   "id": "c89e6951-209a-4759-84e3-821c0b8eaa2e",
   "metadata": {},
   "outputs": [
    {
     "data": {
      "text/html": [
       "<div>\n",
       "<style scoped>\n",
       "    .dataframe tbody tr th:only-of-type {\n",
       "        vertical-align: middle;\n",
       "    }\n",
       "\n",
       "    .dataframe tbody tr th {\n",
       "        vertical-align: top;\n",
       "    }\n",
       "\n",
       "    .dataframe thead th {\n",
       "        text-align: right;\n",
       "    }\n",
       "</style>\n",
       "<table border=\"1\" class=\"dataframe\">\n",
       "  <thead>\n",
       "    <tr style=\"text-align: right;\">\n",
       "      <th></th>\n",
       "      <th>Unnamed: 0</th>\n",
       "      <th>blog_url</th>\n",
       "      <th>dt</th>\n",
       "      <th>type</th>\n",
       "      <th>lang</th>\n",
       "      <th>is_reblog</th>\n",
       "      <th>tags</th>\n",
       "      <th>root_tags</th>\n",
       "      <th>body</th>\n",
       "      <th>title</th>\n",
       "    </tr>\n",
       "  </thead>\n",
       "  <tbody>\n",
       "    <tr>\n",
       "      <th>4604</th>\n",
       "      <td>11242</td>\n",
       "      <td>andripap.tumblr.com</td>\n",
       "      <td>2023-01-15</td>\n",
       "      <td>photo</td>\n",
       "      <td>en_US</td>\n",
       "      <td>1.0</td>\n",
       "      <td>black and white</td>\n",
       "      <td>bryanschutmaat</td>\n",
       "      <td>\"Texas, 2020\"</td>\n",
       "      <td>&lt;p&gt;Texas, 2020&lt;/p&gt;</td>\n",
       "    </tr>\n",
       "    <tr>\n",
       "      <th>11188</th>\n",
       "      <td>27019</td>\n",
       "      <td>dongvaljean.tumblr.com</td>\n",
       "      <td>2023-01-15</td>\n",
       "      <td>photo</td>\n",
       "      <td>en_US</td>\n",
       "      <td>1.0</td>\n",
       "      <td>leezard</td>\n",
       "      <td>NaN</td>\n",
       "      <td>[\"Campeche spiny-tailed iguana\",\"\\\"Cachryx alf...</td>\n",
       "      <td>Campeche spiny-tailed iguana\\n\"Cachryx alfreds...</td>\n",
       "    </tr>\n",
       "    <tr>\n",
       "      <th>88952</th>\n",
       "      <td>213114</td>\n",
       "      <td>getoumoon.tumblr.com</td>\n",
       "      <td>2023-01-15</td>\n",
       "      <td>photo</td>\n",
       "      <td>en_US</td>\n",
       "      <td>1.0</td>\n",
       "      <td>films</td>\n",
       "      <td>jadegifs,RRR,RRR film,ntr jr,ram charan,ss raj...</td>\n",
       "      <td>\"RISE. ROAR. REVOLT.\\nRRR (2022) dir.  S. S. R...</td>\n",
       "      <td>&lt;p&gt;&lt;b&gt;&lt;span style=\"color: #ff9900\"&gt;R&lt;/span&gt;&lt;sp...</td>\n",
       "    </tr>\n",
       "    <tr>\n",
       "      <th>50696</th>\n",
       "      <td>121258</td>\n",
       "      <td>softeyes-prettynails.tumblr.com</td>\n",
       "      <td>2023-01-15</td>\n",
       "      <td>photo</td>\n",
       "      <td>en_US</td>\n",
       "      <td>1.0</td>\n",
       "      <td>ink,cats</td>\n",
       "      <td>animal,animals,cat,cats,kitty,kittens,art,draw...</td>\n",
       "      <td>\"Cat tattoos ideas\"</td>\n",
       "      <td>&lt;b&gt;&lt;div&gt;&lt;span style=\"color: #ce7ed8\"&gt;C&lt;/span&gt;&lt;...</td>\n",
       "    </tr>\n",
       "    <tr>\n",
       "      <th>52688</th>\n",
       "      <td>126084</td>\n",
       "      <td>huahualania.tumblr.com</td>\n",
       "      <td>2023-01-15</td>\n",
       "      <td>regular</td>\n",
       "      <td>en_US</td>\n",
       "      <td>1.0</td>\n",
       "      <td>ask meme,ask game</td>\n",
       "      <td>meme,rp meme,ask meme,//feel free to reblog</td>\n",
       "      <td>[\"Useless Details Ask Meme I\",\"Send one of the...</td>\n",
       "      <td>Useless Details Ask Meme I</td>\n",
       "    </tr>\n",
       "  </tbody>\n",
       "</table>\n",
       "</div>"
      ],
      "text/plain": [
       "       Unnamed: 0                         blog_url          dt     type  \\\n",
       "4604        11242              andripap.tumblr.com  2023-01-15    photo   \n",
       "11188       27019           dongvaljean.tumblr.com  2023-01-15    photo   \n",
       "88952      213114             getoumoon.tumblr.com  2023-01-15    photo   \n",
       "50696      121258  softeyes-prettynails.tumblr.com  2023-01-15    photo   \n",
       "52688      126084           huahualania.tumblr.com  2023-01-15  regular   \n",
       "\n",
       "        lang  is_reblog               tags  \\\n",
       "4604   en_US        1.0    black and white   \n",
       "11188  en_US        1.0            leezard   \n",
       "88952  en_US        1.0              films   \n",
       "50696  en_US        1.0           ink,cats   \n",
       "52688  en_US        1.0  ask meme,ask game   \n",
       "\n",
       "                                               root_tags  \\\n",
       "4604                                      bryanschutmaat   \n",
       "11188                                                NaN   \n",
       "88952  jadegifs,RRR,RRR film,ntr jr,ram charan,ss raj...   \n",
       "50696  animal,animals,cat,cats,kitty,kittens,art,draw...   \n",
       "52688        meme,rp meme,ask meme,//feel free to reblog   \n",
       "\n",
       "                                                    body  \\\n",
       "4604                                       \"Texas, 2020\"   \n",
       "11188  [\"Campeche spiny-tailed iguana\",\"\\\"Cachryx alf...   \n",
       "88952  \"RISE. ROAR. REVOLT.\\nRRR (2022) dir.  S. S. R...   \n",
       "50696                                \"Cat tattoos ideas\"   \n",
       "52688  [\"Useless Details Ask Meme I\",\"Send one of the...   \n",
       "\n",
       "                                                   title  \n",
       "4604                                  <p>Texas, 2020</p>  \n",
       "11188  Campeche spiny-tailed iguana\\n\"Cachryx alfreds...  \n",
       "88952  <p><b><span style=\"color: #ff9900\">R</span><sp...  \n",
       "50696  <b><div><span style=\"color: #ce7ed8\">C</span><...  \n",
       "52688                         Useless Details Ask Meme I  "
      ]
     },
     "execution_count": 26,
     "metadata": {},
     "output_type": "execute_result"
    }
   ],
   "source": [
    "raw_df.sample(5)"
   ]
  },
  {
   "cell_type": "code",
   "execution_count": 27,
   "id": "66ae79a3-a4cb-4ebb-b462-ba452f543b91",
   "metadata": {},
   "outputs": [
    {
     "data": {
      "text/plain": [
       "('2023-01-15', '2023-01-15')"
      ]
     },
     "execution_count": 27,
     "metadata": {},
     "output_type": "execute_result"
    }
   ],
   "source": [
    "raw_df.dt.min(), raw_df.dt.max()"
   ]
  },
  {
   "cell_type": "code",
   "execution_count": 28,
   "id": "4a0f92ec-70b1-401e-9f92-ad9873e478ab",
   "metadata": {},
   "outputs": [
    {
     "data": {
      "text/plain": [
       "[(5, 9169), (0, 8101), (6, 7527), (4, 7288), (7, 7138)]"
      ]
     },
     "execution_count": 28,
     "metadata": {},
     "output_type": "execute_result"
    }
   ],
   "source": [
    "tags = raw_df.tags.fillna(\"\").str.split(',')\n",
    "root_tags = raw_df.root_tags.fillna(\"\").str.split(',')\n",
    "\n",
    "Counter(map(lambda x: 0 if x == [''] else len(x), root_tags.to_list())).most_common(5)"
   ]
  },
  {
   "cell_type": "code",
   "execution_count": 29,
   "id": "6e4d8073-21a4-4d96-a656-3c8322d5665c",
   "metadata": {},
   "outputs": [
    {
     "data": {
      "text/plain": [
       "[('photo', 91367),\n",
       " ('video', 6442),\n",
       " ('regular', 3852),\n",
       " ('photoset', 1546),\n",
       " ('link', 531),\n",
       " ('audio', 385),\n",
       " ('conversation', 123)]"
      ]
     },
     "execution_count": 29,
     "metadata": {},
     "output_type": "execute_result"
    }
   ],
   "source": [
    "Counter(raw_df.type).most_common()"
   ]
  },
  {
   "cell_type": "code",
   "execution_count": 30,
   "id": "c68fad97-3677-44c3-8a47-1aeb2b5a8117",
   "metadata": {},
   "outputs": [
    {
     "data": {
      "text/plain": [
       "Counter({1.0: 102135, 0.0: 2111})"
      ]
     },
     "execution_count": 30,
     "metadata": {},
     "output_type": "execute_result"
    }
   ],
   "source": [
    "Counter(raw_df.is_reblog.fillna(0.0))"
   ]
  },
  {
   "cell_type": "code",
   "execution_count": 32,
   "id": "bdf453b3-8e96-4bd4-885a-ce4254261664",
   "metadata": {},
   "outputs": [
    {
     "data": {
      "text/plain": [
       "[('ewa-jednak-chce-spac.tumblr.com', 38),\n",
       " ('emultiverse.tumblr.com', 37),\n",
       " ('bjdavis5.tumblr.com', 37),\n",
       " ('the-not-witch-time-forgot.tumblr.com', 37),\n",
       " ('melodiesforyouandmetooooooo.tumblr.com', 36),\n",
       " ('snck.tumblr.com', 36),\n",
       " ('cor-aeterna.tumblr.com', 35),\n",
       " ('primscc.tumblr.com', 33),\n",
       " ('melodiesforyouandme.tumblr.com', 33),\n",
       " ('dollarstorevibes.tumblr.com', 33),\n",
       " ('animefandomtrash.tumblr.com', 33),\n",
       " ('zanyana626.tumblr.com', 33),\n",
       " ('oku-thearchive.tumblr.com', 32),\n",
       " ('patrickkkmunoz-blanco.tumblr.com', 30),\n",
       " ('kangjennie.tumblr.com', 29),\n",
       " ('simstoricalishccfinds.tumblr.com', 26),\n",
       " ('heywizards.tumblr.com', 26),\n",
       " ('teataeo.tumblr.com', 26),\n",
       " ('shysccfinds.tumblr.com', 25),\n",
       " ('seeingspace.tumblr.com', 25),\n",
       " ('radiomogai.tumblr.com', 24),\n",
       " ('youvegotfire.tumblr.com', 24),\n",
       " ('vilmublue.tumblr.com', 24),\n",
       " ('rahedlinoodles.tumblr.com', 24),\n",
       " ('gtherer.tumblr.com', 24)]"
      ]
     },
     "execution_count": 32,
     "metadata": {},
     "output_type": "execute_result"
    }
   ],
   "source": [
    "Counter(raw_df.blog_url).most_common(25)"
   ]
  },
  {
   "cell_type": "code",
   "execution_count": 33,
   "id": "2413479f-a510-4c53-917e-a1b738348685",
   "metadata": {},
   "outputs": [
    {
     "data": {
      "text/plain": [
       "[('en_US', 95702),\n",
       " ('es_ES', 1985),\n",
       " ('de_DE', 1532),\n",
       " ('fr_FR', 1087),\n",
       " ('pt_BR', 1065),\n",
       " ('it_IT', 793),\n",
       " ('pl_PL', 712),\n",
       " ('ru_RU', 467),\n",
       " ('nl_NL', 335),\n",
       " ('ja_JP', 231),\n",
       " ('pt_PT', 121),\n",
       " ('tr_TR', 89),\n",
       " ('ko_KR', 52),\n",
       " ('zh_TW', 28),\n",
       " ('zh_CN', 23),\n",
       " ('zh_HK', 16),\n",
       " ('id_ID', 8)]"
      ]
     },
     "execution_count": 33,
     "metadata": {},
     "output_type": "execute_result"
    }
   ],
   "source": [
    "Counter(raw_df.lang).most_common(25)"
   ]
  },
  {
   "cell_type": "code",
   "execution_count": null,
   "id": "a907204a-af0a-45cb-a3d4-6a1e3d75c390",
   "metadata": {},
   "outputs": [],
   "source": [
    "from dataclasses import dataclass\n",
    "\n",
    "@dataclass\n",
    "class Post:\n",
    "    post_id: int\n",
    "    blog_url: str\n",
    "    datetime:"
   ]
  }
 ],
 "metadata": {
  "kernelspec": {
   "display_name": "Python 3 (ipykernel)",
   "language": "python",
   "name": "python3"
  },
  "language_info": {
   "codemirror_mode": {
    "name": "ipython",
    "version": 3
   },
   "file_extension": ".py",
   "mimetype": "text/x-python",
   "name": "python",
   "nbconvert_exporter": "python",
   "pygments_lexer": "ipython3",
   "version": "3.9.6"
  }
 },
 "nbformat": 4,
 "nbformat_minor": 5
}
