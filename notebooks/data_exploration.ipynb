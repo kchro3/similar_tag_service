{
 "cells": [
  {
   "cell_type": "code",
   "execution_count": 1,
   "id": "d8d3a8de-2595-460b-b81d-0db3c5c78f92",
   "metadata": {},
   "outputs": [
    {
     "name": "stdout",
     "output_type": "stream",
     "text": [
      "Collecting pandas\n",
      "  Downloading pandas-1.5.2-cp39-cp39-macosx_11_0_arm64.whl (10.9 MB)\n",
      "\u001b[2K     \u001b[90m━━━━━━━━━━━━━━━━━━━━━━━━━━━━━━━━━━━━━━━━\u001b[0m \u001b[32m10.9/10.9 MB\u001b[0m \u001b[31m8.4 MB/s\u001b[0m eta \u001b[36m0:00:00\u001b[0m00:01\u001b[0m00:01\u001b[0m\n",
      "\u001b[?25hRequirement already satisfied: pytz>=2020.1 in /Users/jeffhara/PycharmProjects/similar_tags_service/venv/lib/python3.9/site-packages (from pandas) (2022.7.1)\n",
      "Requirement already satisfied: python-dateutil>=2.8.1 in /Users/jeffhara/PycharmProjects/similar_tags_service/venv/lib/python3.9/site-packages (from pandas) (2.8.2)\n",
      "Collecting numpy>=1.20.3\n",
      "  Downloading numpy-1.24.1-cp39-cp39-macosx_11_0_arm64.whl (13.9 MB)\n",
      "\u001b[2K     \u001b[90m━━━━━━━━━━━━━━━━━━━━━━━━━━━━━━━━━━━━━━━━\u001b[0m \u001b[32m13.9/13.9 MB\u001b[0m \u001b[31m11.5 MB/s\u001b[0m eta \u001b[36m0:00:00\u001b[0m00:01\u001b[0m00:01\u001b[0m\n",
      "\u001b[?25hRequirement already satisfied: six>=1.5 in /Users/jeffhara/PycharmProjects/similar_tags_service/venv/lib/python3.9/site-packages (from python-dateutil>=2.8.1->pandas) (1.16.0)\n",
      "Installing collected packages: numpy, pandas\n",
      "Successfully installed numpy-1.24.1 pandas-1.5.2\n"
     ]
    }
   ],
   "source": [
    "! pip install pandas"
   ]
  },
  {
   "cell_type": "code",
   "execution_count": 1,
   "id": "e57c02ee-9688-46b1-bd7b-e775e8b8d7a5",
   "metadata": {},
   "outputs": [
    {
     "data": {
      "text/html": [
       "<div>\n",
       "<style scoped>\n",
       "    .dataframe tbody tr th:only-of-type {\n",
       "        vertical-align: middle;\n",
       "    }\n",
       "\n",
       "    .dataframe tbody tr th {\n",
       "        vertical-align: top;\n",
       "    }\n",
       "\n",
       "    .dataframe thead th {\n",
       "        text-align: right;\n",
       "    }\n",
       "</style>\n",
       "<table border=\"1\" class=\"dataframe\">\n",
       "  <thead>\n",
       "    <tr style=\"text-align: right;\">\n",
       "      <th></th>\n",
       "      <th>blog_url</th>\n",
       "      <th>dt</th>\n",
       "      <th>type</th>\n",
       "      <th>lang</th>\n",
       "      <th>is_reblog</th>\n",
       "      <th>tags</th>\n",
       "      <th>root_tags</th>\n",
       "    </tr>\n",
       "  </thead>\n",
       "  <tbody>\n",
       "    <tr>\n",
       "      <th>0</th>\n",
       "      <td>fireland.tumblr.com</td>\n",
       "      <td>2021-06-15</td>\n",
       "      <td>photo</td>\n",
       "      <td>en_US</td>\n",
       "      <td>NaN</td>\n",
       "      <td>jfk,joe pesci,moviegifs,filmgifs</td>\n",
       "      <td>NaN</td>\n",
       "    </tr>\n",
       "    <tr>\n",
       "      <th>1</th>\n",
       "      <td>erina.tumblr.com</td>\n",
       "      <td>2021-06-15</td>\n",
       "      <td>photo</td>\n",
       "      <td>en_US</td>\n",
       "      <td>NaN</td>\n",
       "      <td>she and Seven got along great!,seven doesn’t u...</td>\n",
       "      <td>NaN</td>\n",
       "    </tr>\n",
       "    <tr>\n",
       "      <th>2</th>\n",
       "      <td>goran.tumblr.com</td>\n",
       "      <td>2021-06-15</td>\n",
       "      <td>link</td>\n",
       "      <td>en_US</td>\n",
       "      <td>NaN</td>\n",
       "      <td>classifieds’ saab of the day</td>\n",
       "      <td>NaN</td>\n",
       "    </tr>\n",
       "    <tr>\n",
       "      <th>3</th>\n",
       "      <td>paintbynumbers.tumblr.com</td>\n",
       "      <td>2021-06-15</td>\n",
       "      <td>video</td>\n",
       "      <td>en_US</td>\n",
       "      <td>NaN</td>\n",
       "      <td>Youtube</td>\n",
       "      <td>NaN</td>\n",
       "    </tr>\n",
       "    <tr>\n",
       "      <th>4</th>\n",
       "      <td>alteralter.tumblr.com</td>\n",
       "      <td>2021-06-15</td>\n",
       "      <td>regular</td>\n",
       "      <td>en_US</td>\n",
       "      <td>NaN</td>\n",
       "      <td>diary</td>\n",
       "      <td>NaN</td>\n",
       "    </tr>\n",
       "  </tbody>\n",
       "</table>\n",
       "</div>"
      ],
      "text/plain": [
       "                    blog_url          dt     type   lang  is_reblog  \\\n",
       "0        fireland.tumblr.com  2021-06-15    photo  en_US        NaN   \n",
       "1           erina.tumblr.com  2021-06-15    photo  en_US        NaN   \n",
       "2           goran.tumblr.com  2021-06-15     link  en_US        NaN   \n",
       "3  paintbynumbers.tumblr.com  2021-06-15    video  en_US        NaN   \n",
       "4      alteralter.tumblr.com  2021-06-15  regular  en_US        NaN   \n",
       "\n",
       "                                                tags root_tags  \n",
       "0                   jfk,joe pesci,moviegifs,filmgifs       NaN  \n",
       "1  she and Seven got along great!,seven doesn’t u...       NaN  \n",
       "2                       classifieds’ saab of the day       NaN  \n",
       "3                                            Youtube       NaN  \n",
       "4                                              diary       NaN  "
      ]
     },
     "execution_count": 1,
     "metadata": {},
     "output_type": "execute_result"
    }
   ],
   "source": [
    "import os\n",
    "\n",
    "from collections import Counter\n",
    "\n",
    "import pandas as pd\n",
    "\n",
    "DATA_PATH = \"data/tags_on_posts_sample.csv\"\n",
    "\n",
    "raw_df = pd.read_csv(DATA_PATH)\n",
    "raw_df.head()"
   ]
  },
  {
   "cell_type": "code",
   "execution_count": 2,
   "id": "66ae79a3-a4cb-4ebb-b462-ba452f543b91",
   "metadata": {},
   "outputs": [
    {
     "data": {
      "text/plain": [
       "('2021-06-15', '2021-06-15')"
      ]
     },
     "execution_count": 2,
     "metadata": {},
     "output_type": "execute_result"
    }
   ],
   "source": [
    "raw_df.dt.min(), raw_df.dt.max()"
   ]
  },
  {
   "cell_type": "code",
   "execution_count": 40,
   "id": "4a0f92ec-70b1-401e-9f92-ad9873e478ab",
   "metadata": {},
   "outputs": [
    {
     "data": {
      "text/plain": [
       "[(0, 40906), (1, 5411), (5, 5210), (2, 4958), (4, 4869)]"
      ]
     },
     "execution_count": 40,
     "metadata": {},
     "output_type": "execute_result"
    }
   ],
   "source": [
    "tags = raw_df.tags.fillna(\"\").str.split(',')\n",
    "root_tags = raw_df.root_tags.fillna(\"\").str.split(',')\n",
    "\n",
    "Counter(map(lambda x: 0 if x == [''] else len(x), root_tags.to_list())).most_common(5)"
   ]
  },
  {
   "cell_type": "code",
   "execution_count": 3,
   "id": "6e4d8073-21a4-4d96-a656-3c8322d5665c",
   "metadata": {},
   "outputs": [
    {
     "data": {
      "text/plain": [
       "[('photo', 55097),\n",
       " ('regular', 28294),\n",
       " ('video', 5132),\n",
       " ('photoset', 3806),\n",
       " ('link', 3565),\n",
       " ('note', 2221),\n",
       " ('quote', 739),\n",
       " ('audio', 719),\n",
       " ('conversation', 426)]"
      ]
     },
     "execution_count": 3,
     "metadata": {},
     "output_type": "execute_result"
    }
   ],
   "source": [
    "Counter(raw_df.type).most_common()"
   ]
  },
  {
   "cell_type": "code",
   "execution_count": 6,
   "id": "c68fad97-3677-44c3-8a47-1aeb2b5a8117",
   "metadata": {},
   "outputs": [
    {
     "data": {
      "text/plain": [
       "Counter({0.0: 32991, 1.0: 67008})"
      ]
     },
     "execution_count": 6,
     "metadata": {},
     "output_type": "execute_result"
    }
   ],
   "source": [
    "Counter(raw_df.is_reblog.fillna(0.0))"
   ]
  },
  {
   "cell_type": "code",
   "execution_count": 21,
   "id": "bdf453b3-8e96-4bd4-885a-ce4254261664",
   "metadata": {},
   "outputs": [
    {
     "data": {
      "text/plain": [
       "[('happysmilebtr.tumblr.com', 250),\n",
       " ('lovelyali786.tumblr.com', 250),\n",
       " ('todaytalk.tumblr.com', 250),\n",
       " ('eryfhy6bdv4rgf.tumblr.com', 250),\n",
       " ('angelshizuka.tumblr.com', 249),\n",
       " ('bysaadatmand.tumblr.com', 248),\n",
       " ('souhaibboukhroufa.tumblr.com', 247),\n",
       " ('congtychongthamtinphat.tumblr.com', 240),\n",
       " ('rooftopdog.tumblr.com', 220),\n",
       " ('newsrush.tumblr.com', 199),\n",
       " ('nayanazriya.tumblr.com', 197),\n",
       " ('heise-neuigkeiten.tumblr.com', 193),\n",
       " ('emrose-gold.tumblr.com', 186),\n",
       " ('sutra.la', 182),\n",
       " ('cheru6z.tumblr.com', 181),\n",
       " ('pachucopaniolo.tumblr.com', 178),\n",
       " ('vantaev.tumblr.com', 166),\n",
       " ('clubedoprazer.tk', 158),\n",
       " ('texasplumbernow.tumblr.com', 152),\n",
       " ('cool-pencari-receh.tumblr.com', 150),\n",
       " ('leatherjacketcormen.tumblr.com', 150),\n",
       " ('indonesiapress.tumblr.com', 145),\n",
       " ('painless-and-colourful.tumblr.com', 142),\n",
       " ('catschasinghiggsbosunparticles.tumblr.com', 137),\n",
       " ('daniel-ricciardos.tumblr.com', 133)]"
      ]
     },
     "execution_count": 21,
     "metadata": {},
     "output_type": "execute_result"
    }
   ],
   "source": [
    "Counter(raw_df.blog_url).most_common(25)"
   ]
  },
  {
   "cell_type": "code",
   "execution_count": 22,
   "id": "2413479f-a510-4c53-917e-a1b738348685",
   "metadata": {},
   "outputs": [
    {
     "data": {
      "text/plain": [
       "[('en_US', 92029),\n",
       " ('es_ES', 2054),\n",
       " ('de_DE', 1225),\n",
       " ('pt_BR', 931),\n",
       " ('fr_FR', 894),\n",
       " ('it_IT', 583),\n",
       " ('nl_NL', 442),\n",
       " ('ja_JP', 393),\n",
       " ('tr_TR', 369),\n",
       " ('ru_RU', 352),\n",
       " ('pl_PL', 323),\n",
       " ('id_ID', 115),\n",
       " ('ko_KR', 110),\n",
       " ('pt_PT', 72),\n",
       " ('zh_CN', 66),\n",
       " ('zh_HK', 22),\n",
       " ('zh_TW', 19)]"
      ]
     },
     "execution_count": 22,
     "metadata": {},
     "output_type": "execute_result"
    }
   ],
   "source": [
    "Counter(raw_df.lang).most_common(25)"
   ]
  },
  {
   "cell_type": "code",
   "execution_count": null,
   "id": "a907204a-af0a-45cb-a3d4-6a1e3d75c390",
   "metadata": {},
   "outputs": [],
   "source": [
    "from dataclasses import dataclass\n",
    "\n",
    "@dataclass\n",
    "class Post:\n",
    "    post_id: int\n",
    "    blog_url: str\n",
    "    datetime:"
   ]
  }
 ],
 "metadata": {
  "kernelspec": {
   "display_name": "Python 3 (ipykernel)",
   "language": "python",
   "name": "python3"
  },
  "language_info": {
   "codemirror_mode": {
    "name": "ipython",
    "version": 3
   },
   "file_extension": ".py",
   "mimetype": "text/x-python",
   "name": "python",
   "nbconvert_exporter": "python",
   "pygments_lexer": "ipython3",
   "version": "3.9.6"
  }
 },
 "nbformat": 4,
 "nbformat_minor": 5
}
