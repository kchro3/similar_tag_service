{
 "cells": [
  {
   "cell_type": "code",
   "execution_count": null,
   "id": "a20db955-2988-469a-97b7-f292091e03c9",
   "metadata": {},
   "outputs": [],
   "source": [
    "import os\n",
    "\n",
    "from collections import Counter\n",
    "\n",
    "import pandas as pd\n",
    "\n",
    "# DATA_PATH = \"data/tags_on_posts_sample.csv\"\n",
    "DATA_PATH = \"data/Trial-main-dataset.csv\"\n",
    "\n",
    "raw_df = pd.read_csv(DATA_PATH)"
   ]
  },
  {
   "cell_type": "code",
   "execution_count": null,
   "id": "c89e6951-209a-4759-84e3-821c0b8eaa2e",
   "metadata": {},
   "outputs": [],
   "source": [
    "raw_df.sample(5)"
   ]
  },
  {
   "cell_type": "code",
   "execution_count": null,
   "id": "66ae79a3-a4cb-4ebb-b462-ba452f543b91",
   "metadata": {},
   "outputs": [],
   "source": [
    "raw_df.dt.min(), raw_df.dt.max()"
   ]
  },
  {
   "cell_type": "code",
   "execution_count": null,
   "id": "4a0f92ec-70b1-401e-9f92-ad9873e478ab",
   "metadata": {},
   "outputs": [],
   "source": [
    "tags = raw_df.tags.fillna(\"\").str.split(',')\n",
    "root_tags = raw_df.root_tags.fillna(\"\").str.split(',')\n",
    "\n",
    "Counter(map(lambda x: 0 if x == [''] else len(x), root_tags.to_list())).most_common(5)"
   ]
  },
  {
   "cell_type": "code",
   "execution_count": null,
   "id": "6e4d8073-21a4-4d96-a656-3c8322d5665c",
   "metadata": {},
   "outputs": [],
   "source": [
    "Counter(raw_df.type).most_common()"
   ]
  },
  {
   "cell_type": "code",
   "execution_count": null,
   "id": "c68fad97-3677-44c3-8a47-1aeb2b5a8117",
   "metadata": {},
   "outputs": [],
   "source": [
    "Counter(raw_df.is_reblog.fillna(0.0))"
   ]
  },
  {
   "cell_type": "code",
   "execution_count": null,
   "id": "bdf453b3-8e96-4bd4-885a-ce4254261664",
   "metadata": {},
   "outputs": [],
   "source": [
    "Counter(raw_df.blog_url).most_common(25)"
   ]
  },
  {
   "cell_type": "code",
   "execution_count": null,
   "id": "2413479f-a510-4c53-917e-a1b738348685",
   "metadata": {},
   "outputs": [],
   "source": [
    "Counter(raw_df.lang).most_common(25)"
   ]
  },
  {
   "cell_type": "code",
   "execution_count": null,
   "id": "a907204a-af0a-45cb-a3d4-6a1e3d75c390",
   "metadata": {},
   "outputs": [],
   "source": [
    "from dataclasses import dataclass\n",
    "\n",
    "@dataclass\n",
    "class Post:\n",
    "    post_id: int\n",
    "    blog_url: str\n",
    "    datetime:"
   ]
  }
 ],
 "metadata": {
  "kernelspec": {
   "display_name": "Python 3 (ipykernel)",
   "language": "python",
   "name": "python3"
  },
  "language_info": {
   "codemirror_mode": {
    "name": "ipython",
    "version": 3
   },
   "file_extension": ".py",
   "mimetype": "text/x-python",
   "name": "python",
   "nbconvert_exporter": "python",
   "pygments_lexer": "ipython3",
   "version": "3.11.2"
  }
 },
 "nbformat": 4,
 "nbformat_minor": 5
}
