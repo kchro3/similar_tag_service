{
 "cells": [
  {
   "cell_type": "code",
   "execution_count": 1,
   "id": "3c9cf228-1375-4672-bae1-d207ff56c44b",
   "metadata": {},
   "outputs": [],
   "source": [
    "import random\n",
    "import networkx as nx"
   ]
  },
  {
   "cell_type": "code",
   "execution_count": 2,
   "id": "349a5439-c412-4e4a-96c2-66dd2d981051",
   "metadata": {},
   "outputs": [],
   "source": [
    "G = nx.read_graphml(\"export/post2tag.nx\")\n",
    "b = nx.get_node_attributes(G, \"bipartite\")"
   ]
  },
  {
   "cell_type": "code",
   "execution_count": 30,
   "id": "a5629940-a1e3-4f8b-a1f0-bbc373207c33",
   "metadata": {},
   "outputs": [],
   "source": [
    "from typing import List, Tuple, Mapping\n",
    "\n",
    "class WeightedBipartiteGraph:\n",
    "    def __init__(self, G):\n",
    "        self.G = G\n",
    "        self.bipartite = nx.get_node_attributes(G, \"bipartite\")\n",
    "\n",
    "        # check that graph is bipartite so that the algorithm will work as expected\n",
    "        assert nx.bipartite.is_bipartite(self.G), \"Graph is not bipartite\"\n",
    "\n",
    "    def get_weight(self, a, b) -> int:\n",
    "        return self.G[a][b][\"weight\"]\n",
    "\n",
    "    def weighted_hop(self, node: str, k: int = 5) -> List[Tuple[str, int]]:\n",
    "        if node not in self.G:\n",
    "            return []\n",
    "        else:\n",
    "            weighted_neighbors = []\n",
    "\n",
    "            for n in self.G[node]:\n",
    "                weighted_neighbors.append((n, self.get_weight(node, n)))\n",
    "\n",
    "            return sorted(weighted_neighbors, key=lambda x: x[1], reverse=True)[:k]\n",
    "\n",
    "    def weighted_two_hop(self, node: str, k: int = 5) -> List[Tuple[str, int]]:\n",
    "        neighbors_and_weights: Mapping[str, int] = {}\n",
    "        for n, w in self.weighted_hop(node, k):\n",
    "            for nn, ww in self.weighted_hop(n, k):\n",
    "                if node != nn:\n",
    "                    if nn not in neighbors_and_weights:\n",
    "                        neighbors_and_weights[nn] = w+ww\n",
    "                    else:\n",
    "                        neighbors_and_weights[nn] += w+ww\n",
    "\n",
    "        return sorted(\n",
    "            neighbors_and_weights.items(),\n",
    "            key=lambda x: x[1],\n",
    "            reverse=True\n",
    "        )[:k]\n",
    "    \n",
    "    def get_top_nodes(self) -> List[int]:\n",
    "        top_nodes = []\n",
    "        for node in self.G:\n",
    "            if self.bipartite[node] == 1:\n",
    "                top_nodes.append(node)\n",
    "        return top_nodes\n",
    "    \n",
    "    def get_bottom_nodes(self) -> List[int]:\n",
    "        bottom_nodes = []\n",
    "        for node in self.G:\n",
    "            if self.bipartite[node] == 0:\n",
    "                bottom_nodes.append(node)\n",
    "        return bottom_nodes    "
   ]
  },
  {
   "cell_type": "code",
   "execution_count": 31,
   "id": "59236487-72c9-4588-a278-fe6e5d0a87bb",
   "metadata": {},
   "outputs": [],
   "source": [
    "g = WeightedBipartiteGraph(G)"
   ]
  },
  {
   "cell_type": "code",
   "execution_count": 40,
   "id": "0a206410-f7a2-4c71-98c1-ad05bdc5f131",
   "metadata": {
    "tags": []
   },
   "outputs": [],
   "source": [
    "precomputed = dict()\n",
    "for tag in g.get_top_nodes():\n",
    "    precomputed[tag] = g.weighted_two_hop(tag)\n",
    "\n"
   ]
  },
  {
   "cell_type": "code",
   "execution_count": 42,
   "id": "c7ded69d-f94f-4db7-af03-77eb30613912",
   "metadata": {},
   "outputs": [
    {
     "data": {
      "text/plain": [
       "[('star wars', 6),\n",
       " ('anakin skywalker', 4),\n",
       " ('darth vader', 2),\n",
       " ('art', 2),\n",
       " ('clone trooper army', 2)]"
      ]
     },
     "execution_count": 42,
     "metadata": {},
     "output_type": "execute_result"
    }
   ],
   "source": [
    "precomputed['obi-wan kenobi']"
   ]
  },
  {
   "cell_type": "code",
   "execution_count": 10,
   "id": "1cb13be0-d69d-496d-809c-2c707e65bfcf",
   "metadata": {},
   "outputs": [],
   "source": [
    "data = Dataset.load_from_df(tags_by_user_df, reader=reader)"
   ]
  },
  {
   "cell_type": "code",
   "execution_count": 11,
   "id": "b7685bef-e73f-4cd9-83f6-ac93d4470ffc",
   "metadata": {},
   "outputs": [
    {
     "ename": "TypeError",
     "evalue": "__init__() got an unexpected keyword argument 'sim_options'",
     "output_type": "error",
     "traceback": [
      "\u001b[0;31m---------------------------------------------------------------------------\u001b[0m",
      "\u001b[0;31mTypeError\u001b[0m                                 Traceback (most recent call last)",
      "Cell \u001b[0;32mIn[36], line 5\u001b[0m\n\u001b[1;32m      1\u001b[0m sim_options \u001b[38;5;241m=\u001b[39m {\n\u001b[1;32m      2\u001b[0m     \u001b[38;5;124m\"\u001b[39m\u001b[38;5;124mname\u001b[39m\u001b[38;5;124m\"\u001b[39m: \u001b[38;5;124m\"\u001b[39m\u001b[38;5;124mcosine\u001b[39m\u001b[38;5;124m\"\u001b[39m,\n\u001b[1;32m      3\u001b[0m     \u001b[38;5;124m\"\u001b[39m\u001b[38;5;124muser_based\u001b[39m\u001b[38;5;124m\"\u001b[39m: \u001b[38;5;28;01mFalse\u001b[39;00m,  \u001b[38;5;66;03m# compute  similarities between items\u001b[39;00m\n\u001b[1;32m      4\u001b[0m }\n\u001b[0;32m----> 5\u001b[0m algo \u001b[38;5;241m=\u001b[39m \u001b[43mSVD\u001b[49m\u001b[43m(\u001b[49m\u001b[43msim_options\u001b[49m\u001b[38;5;241;43m=\u001b[39;49m\u001b[43msim_options\u001b[49m\u001b[43m)\u001b[49m\n\u001b[1;32m      7\u001b[0m \u001b[38;5;66;03m# Run 5-fold cross-validation and print results.\u001b[39;00m\n\u001b[1;32m      8\u001b[0m cross_validate(algo, data, measures\u001b[38;5;241m=\u001b[39m[\u001b[38;5;124m'\u001b[39m\u001b[38;5;124mRMSE\u001b[39m\u001b[38;5;124m'\u001b[39m, \u001b[38;5;124m'\u001b[39m\u001b[38;5;124mMAE\u001b[39m\u001b[38;5;124m'\u001b[39m], cv\u001b[38;5;241m=\u001b[39m\u001b[38;5;241m5\u001b[39m, verbose\u001b[38;5;241m=\u001b[39m\u001b[38;5;28;01mTrue\u001b[39;00m)\n",
      "File \u001b[0;32m~/PycharmProjects/similar_tags_service/venv/lib/python3.9/site-packages/surprise/prediction_algorithms/matrix_factorization.pyx:128\u001b[0m, in \u001b[0;36msurprise.prediction_algorithms.matrix_factorization.SVD.__init__\u001b[0;34m()\u001b[0m\n",
      "\u001b[0;31mTypeError\u001b[0m: __init__() got an unexpected keyword argument 'sim_options'"
     ]
    }
   ],
   "source": [
    "sim_options = {\n",
    "    \"name\": \"cosine\",\n",
    "    \"user_based\": False,  # compute  similarities between items\n",
    "}\n",
    "algo = KNNBasic(sim_options=sim_options)\n",
    "\n",
    "# Run 5-fold cross-validation and print results.\n",
    "cross_validate(algo, data, measures=['RMSE', 'MAE'], cv=5, verbose=True)"
   ]
  },
  {
   "cell_type": "code",
   "execution_count": 33,
   "id": "89e257da-9ffd-4241-aa81-423004b9bcf1",
   "metadata": {},
   "outputs": [],
   "source": [
    "def get_neighbors(algo, x, k=5):\n",
    "    iid = algo.trainset.to_inner_iid(x)\n",
    "    return [\n",
    "        algo.trainset.to_raw_iid(niid)\n",
    "        for niid in algo.get_neighbors(iid, 5)\n",
    "    ]"
   ]
  },
  {
   "cell_type": "code",
   "execution_count": 35,
   "id": "8caa3a61-2586-4102-9bd9-043dd1d42054",
   "metadata": {},
   "outputs": [
    {
     "data": {
      "text/plain": [
       "['giorno giovanna',\n",
       " 'josuke higashikata',\n",
       " 'feng xin',\n",
       " 'so true',\n",
       " 'kitten sized']"
      ]
     },
     "execution_count": 35,
     "metadata": {},
     "output_type": "execute_result"
    }
   ],
   "source": [
    "get_neighbors(algo, \"jolyne cujoh\")"
   ]
  },
  {
   "cell_type": "code",
   "execution_count": 55,
   "id": "55065256-8a6d-4c24-8a42-1cf29b0e6ab3",
   "metadata": {},
   "outputs": [],
   "source": [
    "import math\n",
    "\n",
    "def post_df_to_dataset(post_df: pd.DataFrame, min_tag_count: int, verbose=True):\n",
    "    \"\"\"\n",
    "    Surprise library expects three fields: users, items, and ratings.\n",
    "\n",
    "    In our case:\n",
    "     - \"users\" can be the post_url\n",
    "     - \"items\" can be the tags\n",
    "     - \"ratings\" can be the number of times a post_url contains a tag\n",
    "\n",
    "    :param post_df:\n",
    "    :return:\n",
    "    \"\"\"\n",
    "    tag_counts_by_blog_url = defaultdict(int)\n",
    "    for i, row in post_df.iterrows():\n",
    "        blog_url = row[\"blog_url\"]\n",
    "        for tag in row[\"tags\"] + row[\"root_tags\"]:\n",
    "            tag_counts_by_blog_url[(blog_url, tag)] += 1\n",
    "\n",
    "    input_df = pd.DataFrame([\n",
    "        {\n",
    "            \"user\": blog_url,\n",
    "            \"item\": tag,\n",
    "            \"rating\": count\n",
    "        }\n",
    "        for (blog_url, tag), count in tag_counts_by_blog_url.items()\n",
    "        if count >= min_tag_count\n",
    "    ], columns=[\"user\", \"item\", \"rating\"])  # this order is assumed by the Surprise library\n",
    "    \n",
    "    return input_df"
   ]
  },
  {
   "cell_type": "code",
   "execution_count": 57,
   "id": "571e4242-5cfa-4237-964e-fb980ec58c31",
   "metadata": {},
   "outputs": [],
   "source": [
    "unnorm_df = post_df_to_dataset(prep_df, min_tag_count=0).sort_values(\"rating\", ascending=False)"
   ]
  },
  {
   "cell_type": "code",
   "execution_count": 79,
   "id": "7a4ba1f5-aa6f-4a67-9e06-6e983b698b35",
   "metadata": {},
   "outputs": [
    {
     "data": {
      "text/plain": [
       "Counter({5.0: 3, 4.0: 5, 3.0: 36, 2.0: 108, 1.0: 109446, 0.0: 867877})"
      ]
     },
     "execution_count": 79,
     "metadata": {},
     "output_type": "execute_result"
    }
   ],
   "source": [
    "rating = unnorm_df.rating\n",
    "from collections import Counter\n",
    "Counter(np.ceil((rating - rating.min()) / (rating.max() - rating.min()) * 5))"
   ]
  },
  {
   "cell_type": "code",
   "execution_count": null,
   "id": "5d63fec6-7db7-426e-b6cd-c319ea6b3df0",
   "metadata": {},
   "outputs": [],
   "source": []
  }
 ],
 "metadata": {
  "kernelspec": {
   "display_name": "Python 3 (ipykernel)",
   "language": "python",
   "name": "python3"
  },
  "language_info": {
   "codemirror_mode": {
    "name": "ipython",
    "version": 3
   },
   "file_extension": ".py",
   "mimetype": "text/x-python",
   "name": "python",
   "nbconvert_exporter": "python",
   "pygments_lexer": "ipython3",
   "version": "3.9.6"
  }
 },
 "nbformat": 4,
 "nbformat_minor": 5
}
